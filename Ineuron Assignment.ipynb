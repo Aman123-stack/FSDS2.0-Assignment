{
 "cells": [
  {
   "cell_type": "code",
   "execution_count": 1,
   "id": "fc00eb92",
   "metadata": {},
   "outputs": [
    {
     "ename": "SyntaxError",
     "evalue": "invalid decimal literal (4021831326.py, line 1)",
     "output_type": "error",
     "traceback": [
      "\u001b[1;36m  Cell \u001b[1;32mIn[1], line 1\u001b[1;36m\u001b[0m\n\u001b[1;33m    1.The primary goal of Object-Oriented Programming (OOP) is to\u001b[0m\n\u001b[1;37m     ^\u001b[0m\n\u001b[1;31mSyntaxError\u001b[0m\u001b[1;31m:\u001b[0m invalid decimal literal\n"
     ]
    }
   ],
   "source": [
    "1.The primary goal of Object-Oriented Programming (OOP) is to \n",
    "provide a structured and modular approach to software development by \n",
    "organizing code into objects that encapsulate data and behavior. OOP aims to \n",
    "promote code reusability, maintainability, and extensibility by emphasizing the concept of objects, \n",
    "which are instances of classes.\n"
   ]
  },
  {
   "cell_type": "code",
   "execution_count": null,
   "id": "b171c6c7",
   "metadata": {},
   "outputs": [],
   "source": [
    "2. In Python, an object is a fundamental concept of object-oriented programming. It is a self-contained entity that combines both data (attributes or properties) and behavior (methods or functions) into a single unit. Objects are instances of classes, which are the blueprints or templates that define their structure.\n",
    "In Python, you create objects by instantiating a \n",
    "class using the class name followed by parentheses. The class \n",
    "serves as a blueprint for creating objects with specific characteristics and \n",
    "behaviors. Each object created from a class has its own set of attributes and can perform actions defined by its methods.\n",
    "\n"
   ]
  },
  {
   "cell_type": "code",
   "execution_count": null,
   "id": "4eb00021",
   "metadata": {},
   "outputs": [],
   "source": [
    "3.In Python, a class is a blueprint or template that defines the structure and behavior of     objects. It serves as a blueprint for creating instances of objects, also known as objects or instances of the class.\n",
    "\n",
    "A class encapsulates related data (attributes) and functionality (methods) into a single unit. Attributes represent the data associated with the class, while methods define the behaviors or actions that the objects of the class can perform.\n",
    "\n",
    "Here's an example of a simple class in Python:\n",
    "\n",
    "\n",
    "class Person:\n",
    "    def _init_(self, name, age):\n",
    "        self.name = name\n",
    "        self.age = age\n",
    "\n",
    "    def greet(self):\n",
    "        print(f\"Hello, my name is {self.name} and I am {self.age} years old.\")\n",
    "\n",
    "# Creating instances (objects) of the Person class\n",
    "person1 = Person(\"Alice\", 25)\n",
    "person2 = Person(\"Bob\", 30)\n",
    "\n",
    "# Accessing object attributes\n",
    "print(person1.name)  # Output: Alice\n",
    "print(person2.age)  # Output: 30\n",
    "\n",
    "# Calling object methods\n",
    "person1.greet()  # Output: Hello, my name is Alice and I am 25 years old.\n",
    "person2.greet()  # Output: Hello, my name is Bob and I am 30 years old.\n",
    "\n"
   ]
  },
  {
   "cell_type": "markdown",
   "id": "f95afbd6",
   "metadata": {},
   "source": [
    "4. In a class, attributes and methods are the building blocks that define the structure and behavior of objects created from that class.\n",
    "\n",
    "Attributes:\n",
    "Attributes are the variables associated with a class or its objects. They represent the data or state of the objects. Each object created from a class has its own set of attributes. These attributes store specific values that define the characteristics of the object.\n",
    "\n",
    "For example, in a Person class, attributes could include name and age, representing the name and age of a person, respectively.\n",
    "\n",
    "Attributes can be accessed and modified using dot notation (object.attribute). In Python, attributes can be defined within the class constructor (_init_ method) or added dynamically to objects.\n",
    "\n",
    "Methods:\n",
    "Methods are functions defined within a class that define the behavior or actions that objects of the class can perform. They encapsulate the operations that objects can execute.\n",
    "\n",
    "For example, in a Person class, a method could be greet(), which prints a greeting message. Methods can also perform operations on the object's attributes.\n",
    "\n",
    "Methods are called using dot notation (object.method()). They can take arguments, which can be used to manipulate the object's attributes or perform calculations.\n"
   ]
  },
  {
   "cell_type": "markdown",
   "id": "f1444214",
   "metadata": {},
   "source": [
    "\n",
    "5.In Python, class variables and instance variables are two types of variables used within a class, but they have different scopes and purposes.\n",
    "\n",
    "Class Variables:\n",
    "Class variables are variables that are shared among all instances (objects) of a class. They are defined within the class but outside of any methods. Class variables have the same value for all instances of the class.\n",
    "\n",
    "Here's an example to illustrate class variables:\n",
    "class Car:\n",
    "    # Class variable\n",
    "    wheels = 4\n",
    "\n",
    "    def _init_(self, make, model):\n",
    "        self.make = make\n",
    "        self.model = model\n",
    "\n",
    "car1 = Car(\"Toyota\", \"Camry\")\n",
    "car2 = Car(\"Honda\", \"Accord\")\n",
    "\n",
    "print(car1.wheels)  # Output: 4\n",
    "print(car2.wheels)  # Output: 4\n"
   ]
  },
  {
   "cell_type": "code",
   "execution_count": null,
   "id": "aadd2508",
   "metadata": {},
   "outputs": [],
   "source": [
    "6.In the above example, wheels is a class variable. It is defined outside of any methods, directly within the Car class. This variable is shared among all instances of the Car class, so both car1 and car2 have access to it and its value.\n",
    "\n",
    "Instance Variables:\n",
    "Instance variables are specific to each instance (object) of a class. They are defined within the class's methods, typically within the _init_ method. Instance variables store unique data for each object.\n",
    "\n",
    "Here's an example to illustrate instance variables:\n",
    "class Car:\n",
    "    def __init__(self, make, model):\n",
    "        # Instance variables\n",
    "        self.make = make\n",
    "        self.model = model\n",
    "\n",
    "car1 = Car(\"Toyota\", \"Camry\")\n",
    "car2 = Car(\"Honda\", \"Accord\")\n",
    "\n",
    "print(car1.make)  # Output: Toyota\n",
    "print(car2.make)  # Output: Honda\n"
   ]
  },
  {
   "cell_type": "code",
   "execution_count": null,
   "id": "ba189159",
   "metadata": {},
   "outputs": [],
   "source": [
    "\n",
    "7.In Python, the self parameter in class methods serves as a reference to the instance (object) on which the method is being called. It is a convention in Python to name this parameter as self, although you can use any name as long as you are consistent.\n",
    "\n",
    "The self parameter allows methods to access and manipulate the instance's attributes and call other methods within the class. It essentially provides a way for methods to refer to the specific instance they belong to.\n",
    "\n",
    "When a method is called on an instance, the instance itself is automatically passed as the first argument to the method. By convention, this first parameter is named self, which allows the method to refer to the attributes and methods of that particular instance.\n"
   ]
  },
  {
   "cell_type": "code",
   "execution_count": 3,
   "id": "82303da1",
   "metadata": {},
   "outputs": [],
   "source": [
    "class Book:\n",
    "    def __init__(self,title,author,isbn,publication_year,available_copies):\n",
    "        self.title=title\n",
    "        self.author=author\n",
    "        self.isbn=isbn\n",
    "        self.publication_year=publication_year\n",
    "        self.available_copies=available_copies\n",
    "    \n",
    "    def check_out(self,booktaken=\"No\"):\n",
    "\n",
    "        if booktaken == \"Yes\":\n",
    "            self.available_copies-=1\n",
    "        print(f\"The available copies are {self.available_copies}\")\n",
    "    \n",
    "    def return_book(self,bookgiven=\"No\"):\n",
    "        if bookgiven == \"Yes\":\n",
    "            self.available_copies+=1\n",
    "        print(f\"The available copies are {self.available_copies}\")\n",
    "            \n",
    "    \n",
    "    def display_book_info(self):\n",
    "        print(f\"The book having {self.title} with {self.author} of {self.isbn} with publication year of {self.publication_year} are having a copies of {self.available_copies}\")"
   ]
  },
  {
   "cell_type": "code",
   "execution_count": 4,
   "id": "6cca16d3",
   "metadata": {},
   "outputs": [
    {
     "name": "stdout",
     "output_type": "stream",
     "text": [
      "The available copies are 263\n",
      "The available copies are 264\n",
      "The book having Hamberg with Aman of 1234 with publication year of 2022 are having a copies of 264\n"
     ]
    }
   ],
   "source": [
    "book1=Book(\"Hamberg\",\"Aman\",\"1234\",\"2022\",264)\n",
    "book1.check_out(\"Yes\")\n",
    "book1.return_book(\"Yes\")\n",
    "book1.display_book_info()"
   ]
  },
  {
   "cell_type": "code",
   "execution_count": 5,
   "id": "3363fd71",
   "metadata": {},
   "outputs": [],
   "source": [
    "class Ticket:\n",
    "    def __init__(self,ticket_id,event_name,event_date,venue,seat_number,price,is_reserved):\n",
    "        self.ticket_id=ticket_id\n",
    "        self.event_name=event_name\n",
    "        self.event_date=event_date\n",
    "        self.venue=venue\n",
    "        self.seat_number=seat_number\n",
    "        self.price=price\n",
    "        self.is_reserved=is_reserved\n",
    "    \n",
    "    def reserve_ticket(self,ticket_reserved=\"False\"):\n",
    "        if ticket_reserved == \"True\":\n",
    "            self.is_reserved=\"Is Reserved\"\n",
    "        else:\n",
    "            self.is_reserved=\"Not Reserved\"\n",
    "        print(f\"The ticket is {self.is_reserved}\")\n",
    "    def cancel_reservation(self,ticket_reserved=\"False\"):\n",
    "        if ticket_reserved==\"True\":\n",
    "            self.is_reserved=\"Not Reserved\"\n",
    "            print(f\"The ticket is {self.is_reserved}\")\n",
    "    def display_ticket_info(self):\n",
    "        print(f\"There is a ticket of {self.ticket_id} id in the event of {self.event_name} which was held in the {self.event_date} in the {self.venue} with the {self.seat_number} which was of {self.price} price and the ticket is {self.is_reserved}\")"
   ]
  },
  {
   "cell_type": "code",
   "execution_count": 7,
   "id": "c8c90633",
   "metadata": {},
   "outputs": [
    {
     "name": "stdout",
     "output_type": "stream",
     "text": [
      "The ticket is Is Reserved\n",
      "There is a ticket of mongis id in the event of Vidyuttam which was held in the 29/09/2022 in the Bhubaneswar with the 20 which was of 560 price and the ticket is Is Reserved\n"
     ]
    }
   ],
   "source": [
    "ticket1=Ticket(\"mongis\",\"Vidyuttam\",\"29/09/2022\",\"Bhubaneswar\",\"20\",\"560\",\"Is Reserved\")\n",
    "ticket1.reserve_ticket(\"True\")\n",
    "ticket1.cancel_reservation(\"False\")\n",
    "ticket1.display_ticket_info()"
   ]
  },
  {
   "cell_type": "code",
   "execution_count": 8,
   "id": "764cfcfb",
   "metadata": {},
   "outputs": [],
   "source": [
    "class Ticket:\n",
    "    def __init__(self,ticket_id,event_name,event_date,venue,seat_number,price,is_reserved):\n",
    "        self.ticket_id=ticket_id\n",
    "        self.event_name=event_name\n",
    "        self.event_date=event_date\n",
    "        self.venue=venue\n",
    "        self.seat_number=seat_number\n",
    "        self.price=price\n",
    "        self.is_reserved=is_reserved\n",
    "    \n",
    "    def reserve_ticket(self,ticket_reserved=\"False\"):\n",
    "        if ticket_reserved == \"True\":\n",
    "            self.is_reserved=\"Is Reserved\"\n",
    "        else:\n",
    "            self.is_reserved=\"Not Reserved\"\n",
    "        print(f\"The ticket is {self.is_reserved}\")\n",
    "    def cancel_reservation(self,ticket_reserved=\"False\"):\n",
    "        if ticket_reserved==\"True\":\n",
    "            self.is_reserved=\"Not Reserved\"\n",
    "            print(f\"The ticket is {self.is_reserved}\")\n",
    "    def display_ticket_info(self):\n",
    "        print(f\"There is a ticket of {self.ticket_id} id in the event of {self.event_name} which was held in the {self.event_date} in the {self.venue} with the {self.seat_number} which was of {self.price} price and the ticket is {self.is_reserved}\")"
   ]
  },
  {
   "cell_type": "code",
   "execution_count": 9,
   "id": "052b0ae0",
   "metadata": {},
   "outputs": [
    {
     "name": "stdout",
     "output_type": "stream",
     "text": [
      "The available copies are 263\n",
      "The available copies are 264\n",
      "The book having Hamberg with Aman of 1234 with publication year of 2022 are having a copies of 264\n"
     ]
    }
   ],
   "source": [
    "book1=Book(\"Hamberg\",\"Aman\",\"1234\",\"2022\",264)\n",
    "book1.check_out(\"Yes\")\n",
    "book1.return_book(\"Yes\")\n",
    "book1.display_book_info()"
   ]
  },
  {
   "cell_type": "code",
   "execution_count": 10,
   "id": "c2298cde",
   "metadata": {},
   "outputs": [
    {
     "name": "stdout",
     "output_type": "stream",
     "text": [
      "Item 'Shirt' added to the shopping cart.\n",
      "Item 'Shoes' added to the shopping cart.\n",
      "Item 'Hat' added to the shopping cart.\n",
      "Items in the shopping cart:\n",
      "- Shirt\n",
      "- Shoes\n",
      "- Hat\n",
      "Item 'Shoes' removed from the shopping cart.\n",
      "Items in the shopping cart:\n",
      "- Shirt\n",
      "- Hat\n",
      "Shopping cart cleared.\n",
      "The shopping cart is empty.\n"
     ]
    }
   ],
   "source": [
    "cla"
   ]
  },
  {
   "cell_type": "code",
   "execution_count": 13,
   "id": "9cfffc0a",
   "metadata": {},
   "outputs": [],
   "source": [
    "class ShopCart:\n",
    "    def __init__(self):\n",
    "        self.items=[]\n",
    "    \n",
    "    def add_item(self,item):\n",
    "        self.items.append(item)\n",
    "        print(f\"Item {item} added to the list\")\n",
    "    def remove_item(self,item):\n",
    "        if item in self.items:\n",
    "            self.items.remove(item)\n",
    "            print(f\"{item} is removed from the list\")\n",
    "        else:\n",
    "            print(f\"{item} is not present in the list\")\n",
    "    \n",
    "    def view_cart(self):\n",
    "        if self.items:\n",
    "            for item in self.items:\n",
    "                print(f\"This {item} are present in the list\")\n",
    "        else:\n",
    "            print(f\"The shop cart is empty\")\n",
    "    def clear_cart(self):\n",
    "        self.items=[]\n",
    "        print(\"Shopping cart cleared\")\n",
    "        "
   ]
  },
  {
   "cell_type": "code",
   "execution_count": 14,
   "id": "b709cc53",
   "metadata": {},
   "outputs": [
    {
     "name": "stdout",
     "output_type": "stream",
     "text": [
      "Item 'Shirt' added to the shopping cart.\n",
      "Item 'Shoes' added to the shopping cart.\n",
      "Item 'Hat' added to the shopping cart.\n",
      "Items in the shopping cart:\n",
      "- Shirt\n",
      "- Shoes\n",
      "- Hat\n",
      "Item 'Shoes' removed from the shopping cart.\n",
      "Items in the shopping cart:\n",
      "- Shirt\n",
      "- Hat\n",
      "Shopping cart cleared.\n",
      "The shopping cart is empty.\n"
     ]
    }
   ],
   "source": [
    "cart = ShoppingCart()\n",
    "cart.add_item(\"Shirt\")\n",
    "cart.add_item(\"Shoes\")\n",
    "cart.add_item(\"Hat\")\n",
    "cart.view_cart()  # Output: Items in the shopping cart: - Shirt - Shoes - Hat\n",
    "cart.remove_item(\"Shoes\")\n",
    "cart.view_cart()  # Output: Items in the shopping cart: - Shirt - Hat\n",
    "cart.clear_cart()\n",
    "cart.view_cart()  #"
   ]
  },
  {
   "cell_type": "code",
   "execution_count": 15,
   "id": "bec7b77a",
   "metadata": {},
   "outputs": [
    {
     "name": "stdout",
     "output_type": "stream",
     "text": [
      "Attendance for Alice on 2023-07-01 has been updated as present.\n",
      "Attendance for Alice on 2023-07-02 has been updated as absent.\n",
      "Attendance for Alice on 2023-07-03 has been updated as present.\n",
      "{'2023-07-01': 'present', '2023-07-02': 'absent', '2023-07-03': 'present'}\n",
      "66.67\n"
     ]
    }
   ],
   "source": [
    "class Student:\n",
    "    def __init__(self, name, age, grade, student_id):\n",
    "        self.name = name\n",
    "        self.age = age\n",
    "        self.grade = grade\n",
    "        self.student_id = student_id\n",
    "        self.attendance = {}\n",
    "\n",
    "    def update_attendance(self, date, status):\n",
    "        self.attendance[date] = status\n",
    "        print(f\"Attendance for {self.name} on {date} has been updated as {status}.\")\n",
    "\n",
    "    def get_attendance(self):\n",
    "        return self.attendance\n",
    "\n",
    "    def get_average_attendance(self):\n",
    "        if len(self.attendance) == 0:\n",
    "            return 0.0\n",
    "        total_days = len(self.attendance)\n",
    "        present_days = sum(value == 'present' for value in self.attendance.values())\n",
    "        average_attendance = (present_days / total_days) * 100\n",
    "        return round(average_attendance, 2)\n",
    "\n",
    "# Usage example:\n",
    "student1 = Student(\"Alice\", 15, 10, \"S001\")\n",
    "student1.update_attendance(\"2023-07-01\", \"present\")\n",
    "student1.update_attendance(\"2023-07-02\", \"absent\")\n",
    "student1.update_attendance(\"2023-07-03\", \"present\")\n",
    "attendance_record = student1.get_attendance()\n",
    "print(attendance_record)  # Output: {'2023-07-01': 'present', '2023-07-02': 'absent', '2023-07-03': 'present'}\n",
    "average_attendance = student1.get_average_attendance()\n",
    "print(average_attendance)  # Output: 66.67\n"
   ]
  },
  {
   "cell_type": "code",
   "execution_count": null,
   "id": "3be6413a",
   "metadata": {},
   "outputs": [],
   "source": []
  }
 ],
 "metadata": {
  "kernelspec": {
   "display_name": "Python 3 (ipykernel)",
   "language": "python",
   "name": "python3"
  },
  "language_info": {
   "codemirror_mode": {
    "name": "ipython",
    "version": 3
   },
   "file_extension": ".py",
   "mimetype": "text/x-python",
   "name": "python",
   "nbconvert_exporter": "python",
   "pygments_lexer": "ipython3",
   "version": "3.11.3"
  }
 },
 "nbformat": 4,
 "nbformat_minor": 5
}
